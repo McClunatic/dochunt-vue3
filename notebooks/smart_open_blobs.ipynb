{
 "cells": [
  {
   "cell_type": "code",
   "execution_count": 23,
   "metadata": {},
   "outputs": [],
   "source": [
    "import os\r\n",
    "import tempfile\r\n",
    "\r\n",
    "import gensim.corpora.mmcorpus as gm\r\n",
    "import gensim.models.ldamodel as gl\r\n",
    "import gensim.similarities as gs\r\n",
    "\r\n",
    "import requests"
   ]
  },
  {
   "cell_type": "code",
   "execution_count": 16,
   "metadata": {},
   "outputs": [],
   "source": [
    "models_uri = 'https://paperscopestorage.blob.core.windows.net/models'"
   ]
  },
  {
   "cell_type": "code",
   "execution_count": 30,
   "metadata": {},
   "outputs": [],
   "source": [
    "mm_fname = 'theringer.mm'\r\n",
    "mm_urls = [f'{models_uri}/{mm_fname}{suffix}' for suffix in ('', '.index')]\r\n",
    "mm_tmpdir = tempfile.TemporaryDirectory()\r\n",
    "for url in mm_urls:\r\n",
    "    fname = url.rsplit('/', 1)[1]\r\n",
    "    res = requests.get(url)\r\n",
    "    with open(os.path.join(mm_tmpdir.name, fname), 'wb') as fh:\r\n",
    "        fh.write(res.content)\r\n",
    "\r\n",
    "corpus = gm.MmCorpus(os.path.join(mm_tmpdir.name, mm_fname))"
   ]
  },
  {
   "cell_type": "code",
   "execution_count": 39,
   "metadata": {},
   "outputs": [],
   "source": [
    "lda_fname = 'theringer.lda'\r\n",
    "lda_urls = [\r\n",
    "    f'{models_uri}/{lda_fname}{suffix}'\r\n",
    "    for suffix in ('', '.expElogbeta.npy', '.id2word', '.state')\r\n",
    "]\r\n",
    "lda_tmpdir = tempfile.TemporaryDirectory()\r\n",
    "for url in lda_urls:\r\n",
    "    fname = url.rsplit('/', 1)[1]\r\n",
    "    res = requests.get(url)\r\n",
    "    with open(os.path.join(lda_tmpdir.name, fname), 'wb') as fh:\r\n",
    "        fh.write(res.content)\r\n",
    "\r\n",
    "lda = gl.LdaModel.load(os.path.join(lda_tmpdir.name, lda_fname))"
   ]
  },
  {
   "cell_type": "code",
   "execution_count": 32,
   "metadata": {},
   "outputs": [],
   "source": [
    "sim_fname = 'theringer.index'\r\n",
    "sim_urls = [f'{models_uri}/{sim_fname}{suffix}' for suffix in ('', '.0')]\r\n",
    "sim_tmpdir = tempfile.TemporaryDirectory()\r\n",
    "for url in sim_urls:\r\n",
    "    fname = url.rsplit('/', 1)[1]\r\n",
    "    res = requests.get(url)\r\n",
    "    with open(os.path.join(sim_tmpdir.name, fname), 'wb') as fh:\r\n",
    "        fh.write(res.content)\r\n",
    "\r\n",
    "sim = gs.SparseMatrixSimilarity.load(os.path.join(sim_tmpdir.name, sim_fname))"
   ]
  },
  {
   "cell_type": "code",
   "execution_count": 36,
   "metadata": {},
   "outputs": [],
   "source": [
    "for shard in sim.shards:\r\n",
    "    shard.dirname = sim_tmpdir.name"
   ]
  },
  {
   "cell_type": "code",
   "execution_count": 41,
   "metadata": {},
   "outputs": [
    {
     "data": {
      "text/plain": "[(102, 0.9171121120452881),\n (3584, 0.9170953631401062),\n (119, 0.91709303855896)]"
     },
     "execution_count": 41,
     "metadata": {},
     "output_type": "execute_result"
    }
   ],
   "source": [
    "sim.num_best = 3\r\n",
    "sim[lda[corpus[102]]]"
   ]
  }
 ],
 "metadata": {
  "kernelspec": {
   "display_name": "Python 3.8.5 64-bit ('dochunt': conda)",
   "name": "python385jvsc74a57bd07f2869c89f1f163542438dfb21b2aa92128e80425d1d97d614b99f18cddc8a61"
  },
  "language_info": {
   "codemirror_mode": {
    "name": "ipython",
    "version": 3
   },
   "file_extension": ".py",
   "mimetype": "text/x-python",
   "name": "python",
   "nbconvert_exporter": "python",
   "pygments_lexer": "ipython3",
   "version": "3.8.5"
  },
  "orig_nbformat": 2
 },
 "nbformat": 4,
 "nbformat_minor": 2
}
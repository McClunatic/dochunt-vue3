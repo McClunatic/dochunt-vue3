{
 "cells": [
  {
   "cell_type": "code",
   "execution_count": 23,
   "metadata": {},
   "outputs": [],
   "source": [
    "import getpass\r\n",
    "import json\r\n",
    "\r\n",
    "import requests\r\n",
    "import sqlalchemy as sa\r\n",
    "\r\n",
    "from sqlalchemy.orm import declarative_base, sessionmaker"
   ]
  },
  {
   "cell_type": "code",
   "execution_count": 12,
   "metadata": {},
   "outputs": [],
   "source": [
    "Base = declarative_base()\r\n",
    "\r\n",
    "\r\n",
    "class Article(Base):\r\n",
    "    __tablename__ = 'article'\r\n",
    "\r\n",
    "    id = sa.Column(sa.Integer, primary_key=True)\r\n",
    "    index = sa.Column(sa.Integer)\r\n",
    "    href = sa.Column(sa.String(256))\r\n",
    "    title = sa.Column(sa.String(256))\r\n",
    "    description = sa.Column(sa.String(1024))\r\n",
    "    image = sa.Column(sa.String(512))\r\n",
    "    tags = sa.Column(sa.String(512))\r\n",
    "    groups = sa.Column(sa.String(512))\r\n",
    "    author = sa.Column(sa.String(64))\r\n",
    "    date = sa.Column(sa.DateTime)\r\n",
    "    content = sa.Column(sa.String(None))\r\n",
    "\r\n",
    "    def __repr__(self):\r\n",
    "        return (\r\n",
    "            f'Article(id={self.id!r}, href={self.href!r}, title={self.title!r}'\r\n",
    "            f', description={self.description[:30]!r}, image={self.image!r}'\r\n",
    "            f', tags={self.tags!r}, groups={self.groups!r}'\r\n",
    "            f', author={self.author!r}, date={self.date!r}'\r\n",
    "            f', content={self.content[:30]!r}'\r\n",
    "        )"
   ]
  },
  {
   "cell_type": "code",
   "execution_count": 57,
   "metadata": {},
   "outputs": [],
   "source": [
    "class ArticleEncoder(json.JSONEncoder):\r\n",
    "    def default(self, obj):\r\n",
    "        if isinstance(obj, Article):\r\n",
    "            res = {key: val for key, val in vars(obj).items() if not key.startswith('_')}\r\n",
    "            res['date'] = res['date'].isoformat()\r\n",
    "            return res"
   ]
  },
  {
   "cell_type": "code",
   "execution_count": 71,
   "metadata": {},
   "outputs": [],
   "source": [
    "your_password_here = getpass.getpass()\r\n",
    "odbc_conn_str = (\r\n",
    "    'Driver={ODBC Driver 17 for SQL Server};'\r\n",
    "    'Server=tcp:paper-scope-dbserver.database.windows.net,1433;'\r\n",
    "    'Database=paper-scope-db;'\r\n",
    "    'Uid=brian;'\r\n",
    "    f'Pwd={your_password_here};'\r\n",
    "    'Encrypt=yes;'\r\n",
    "    'TrustServerCertificate=no;'\r\n",
    "    'Connection Timeout=30;'\r\n",
    ")"
   ]
  },
  {
   "cell_type": "code",
   "execution_count": 72,
   "metadata": {},
   "outputs": [],
   "source": [
    "engine = sa.create_engine(f'mssql+pyodbc:///?odbc_connect={odbc_conn_str}')\r\n",
    "Session = sessionmaker(engine)"
   ]
  },
  {
   "cell_type": "code",
   "execution_count": 16,
   "metadata": {},
   "outputs": [],
   "source": [
    "with Session() as session:\r\n",
    "    articles = session.query(Article).all()"
   ]
  },
  {
   "cell_type": "code",
   "execution_count": 59,
   "metadata": {},
   "outputs": [
    {
     "name": "stdout",
     "output_type": "stream",
     "text": [
      "Indexing articles 0 through 500...\n",
      "Indexing articles 500 through 1000...\n",
      "Indexing articles 1000 through 1500...\n",
      "Indexing articles 1500 through 2000...\n",
      "Indexing articles 2000 through 2500...\n",
      "Indexing articles 2500 through 3000...\n",
      "Indexing articles 3000 through 3500...\n",
      "Indexing articles 3500 through 4000...\n",
      "Indexing articles 4000 through 4500...\n",
      "Indexing articles 4500 through 5000...\n",
      "Indexing articles 5000 through 5500...\n",
      "Indexing articles 5500 through 6000...\n",
      "Indexing articles 6000 through 6500...\n",
      "Indexing articles 6500 through 7000...\n",
      "Indexing articles 7000 through 7500...\n",
      "Indexing articles 7500 through 8000...\n",
      "Indexing articles 8000 through 8500...\n",
      "Indexing articles 8500 through 9000...\n",
      "Indexing articles 9000 through 9500...\n",
      "Indexing articles 9500 through 10000...\n",
      "Indexing articles 10000 through 10500...\n",
      "Indexing articles 10500 through 11000...\n",
      "Indexing articles 11000 through 11500...\n",
      "Indexing articles 11500 through 12000...\n",
      "Indexing articles 12000 through 12500...\n",
      "Indexing articles 12500 through 13000...\n",
      "Indexing articles 13000 through 13500...\n",
      "Indexing articles 13500 through 14000...\n",
      "Indexing articles 14000 through 14500...\n",
      "Indexing articles 14500 through 15000...\n",
      "Indexing articles 15000 through 15500...\n",
      "Indexing articles 15500 through 16000...\n",
      "Indexing articles 16000 through 16500...\n",
      "Indexing articles 16500 through 17000...\n",
      "Indexing articles 17000 through 17500...\n",
      "Indexing articles 17500 through 18000...\n",
      "Indexing articles 18000 through 18500...\n",
      "Indexing articles 18500 through 19000...\n",
      "Indexing articles 19000 through 19500...\n",
      "Indexing articles 19500 through 20000...\n",
      "Indexing articles 20000 through 20500...\n",
      "Indexing articles 20500 through 21000...\n",
      "Indexing articles 21000 through 21500...\n",
      "Indexing articles 21500 through 22000...\n",
      "Indexing articles 22000 through 22500...\n",
      "Indexing articles 22500 through 23000...\n",
      "Indexing articles 23000 through 23500...\n",
      "Indexing articles 23500 through 24000...\n",
      "Indexing articles 24000 through 24500...\n",
      "Indexing articles 24500 through 25000...\n",
      "Indexing articles 25000 through 25500...\n",
      "Indexing articles 25500 through 26000...\n",
      "Indexing articles 26000 through 26500...\n",
      "Indexing articles 26500 through 27000...\n",
      "Indexing articles 27000 through 27235...\n"
     ]
    }
   ],
   "source": [
    "headers = {'Content-Type': 'application/json'}\r\n",
    "params = {'refresh': 'true'}\r\n",
    "url = 'http://clunacy-burst.eastus.cloudapp.azure.com:9200/articles/_bulk'\r\n",
    "idx = 0\r\n",
    "while idx < len(articles):\r\n",
    "    idx_max = min(idx + 500, len(articles))\r\n",
    "    print(f'Indexing articles {idx} through {idx_max}...')\r\n",
    "    with open('elastic_articles.json', 'w') as jsonf:\r\n",
    "        for article in articles[idx:idx_max]:\r\n",
    "            index = {'index': {'_id': article.id}}\r\n",
    "            json.dump(index, jsonf)\r\n",
    "            jsonf.write('\\n')\r\n",
    "            json.dump(article, jsonf, cls=ArticleEncoder)\r\n",
    "            jsonf.write('\\n')\r\n",
    "    with open('elastic_articles.json', 'rb') as data:\r\n",
    "        r = requests.post(url, headers=headers, params=params, data=data)\r\n",
    "    if r.status_code != 200:\r\n",
    "        break\r\n",
    "    idx += 500"
   ]
  },
  {
   "cell_type": "code",
   "execution_count": 76,
   "metadata": {},
   "outputs": [],
   "source": [
    "with Session() as session:\r\n",
    "    qr = session.query(Article).filter(sa.or_(\r\n",
    "        Article.title.contains('Anthony Edwards'),\r\n",
    "        Article.description.contains('Anthony Edwards'),\r\n",
    "        Article.content.contains('Anthony Edwards'),\r\n",
    "    )).limit(50).all()"
   ]
  },
  {
   "cell_type": "code",
   "execution_count": 75,
   "metadata": {},
   "outputs": [
    {
     "data": {
      "text/plain": "'https://www.theringer.com/2017/5/25/16046880/miracle-mile-nuclear-movies-romance-reagan-era-80e14461144a'"
     },
     "execution_count": 75,
     "metadata": {},
     "output_type": "execute_result"
    }
   ],
   "source": [
    "qr[0].href"
   ]
  },
  {
   "cell_type": "code",
   "execution_count": 81,
   "metadata": {},
   "outputs": [],
   "source": [
    "headers = {'Content-Type': 'application/json'}\r\n",
    "url = 'http://clunacy-burst.eastus.cloudapp.azure.com:9200/articles/_search'\r\n",
    "data = {\r\n",
    "    'size': 50,\r\n",
    "    'query': {\r\n",
    "        'multi_match': {\r\n",
    "            'query': 'Anthony Edwards',\r\n",
    "            'type': 'phrase',\r\n",
    "            'fields': ['title', 'description', 'content'],\r\n",
    "        },\r\n",
    "    },\r\n",
    "}\r\n",
    "r = requests.get(url, headers=headers, data=json.dumps(data))"
   ]
  },
  {
   "cell_type": "code",
   "execution_count": null,
   "metadata": {},
   "outputs": [],
   "source": [
    "print(r.status_code)\r\n",
    "r.json()"
   ]
  }
 ],
 "metadata": {
  "kernelspec": {
   "display_name": "Python 3.8.8 64-bit ('paper-scope': conda)",
   "name": "python388jvsc74a57bd0302455d96d2650895285ab46da483631df8b9a067608514af86429c0488eafec"
  },
  "language_info": {
   "codemirror_mode": {
    "name": "ipython",
    "version": 3
   },
   "file_extension": ".py",
   "mimetype": "text/x-python",
   "name": "python",
   "nbconvert_exporter": "python",
   "pygments_lexer": "ipython3",
   "version": "3.8.8"
  },
  "orig_nbformat": 2
 },
 "nbformat": 4,
 "nbformat_minor": 2
}
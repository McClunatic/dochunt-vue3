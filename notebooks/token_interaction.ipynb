{
 "cells": [
  {
   "cell_type": "code",
   "execution_count": 1,
   "metadata": {},
   "outputs": [],
   "source": [
    "import jwt\r\n",
    "import msal"
   ]
  },
  {
   "cell_type": "code",
   "execution_count": 2,
   "metadata": {},
   "outputs": [],
   "source": [
    "# DocHuntVue stuff\r\n",
    "client_id = '7a0d396a-c9aa-4a65-8bff-e906fef7b0c7'\r\n",
    "client_credential = '24597952-3fe5-42be-ab7b-6308311158dd'\r\n",
    "authority = (\r\n",
    "    'https://clunacy.b2clogin.com/clunacy.onmicrosoft.com/'\r\n",
    "    'B2C_1_dochuntsignupsignin'\r\n",
    ")"
   ]
  },
  {
   "cell_type": "code",
   "execution_count": 5,
   "metadata": {},
   "outputs": [],
   "source": [
    "client = msal.ConfidentialClientApplication(\r\n",
    "    client_id,\r\n",
    "    client_credential=client_credential,\r\n",
    "    authority=authority,\r\n",
    ")"
   ]
  },
  {
   "cell_type": "code",
   "execution_count": 11,
   "metadata": {},
   "outputs": [],
   "source": [
    "response = client.acquire_token_for_client(['results.read.all'])"
   ]
  },
  {
   "cell_type": "code",
   "execution_count": 12,
   "metadata": {},
   "outputs": [
    {
     "data": {
      "text/plain": "{'error': 'unsupported_grant_type',\n 'error_description': 'AADB2C90086: The supplied grant_type [client_credentials] is not supported.\\r\\nCorrelation ID: 751587b6-47ac-4e1e-8311-006f0dd0b9f0\\r\\nTimestamp: 2021-02-02 12:36:26Z\\r\\n'}"
     },
     "execution_count": 12,
     "metadata": {},
     "output_type": "execute_result"
    }
   ],
   "source": [
    "response"
   ]
  }
 ],
 "metadata": {
  "kernelspec": {
   "display_name": "Python 3.8.5 64-bit ('dochunt': conda)",
   "metadata": {
    "interpreter": {
     "hash": "7f2869c89f1f163542438dfb21b2aa92128e80425d1d97d614b99f18cddc8a61"
    }
   },
   "name": "python3"
  },
  "language_info": {
   "codemirror_mode": {
    "name": "ipython",
    "version": 3
   },
   "file_extension": ".py",
   "mimetype": "text/x-python",
   "name": "python",
   "nbconvert_exporter": "python",
   "pygments_lexer": "ipython3",
   "version": "3.8.5"
  },
  "orig_nbformat": 2
 },
 "nbformat": 4,
 "nbformat_minor": 2
}
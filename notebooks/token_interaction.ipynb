{
 "cells": [
  {
   "cell_type": "code",
   "execution_count": 1,
   "metadata": {},
   "outputs": [],
   "source": [
    "import jwt\r\n",
    "import msal"
   ]
  },
  {
   "cell_type": "code",
   "execution_count": 2,
   "metadata": {},
   "outputs": [],
   "source": [
    "# DocHuntVue stuff\r\n",
    "client_id = '7a0d396a-c9aa-4a65-8bff-e906fef7b0c7'\r\n",
    "client_credential = '24597952-3fe5-42be-ab7b-6308311158dd'\r\n",
    "authority = (\r\n",
    "    'https://clunacy.b2clogin.com/clunacy.onmicrosoft.com/'\r\n",
    "    'B2C_1_dochuntsignupsignin'\r\n",
    ")"
   ]
  },
  {
   "cell_type": "code",
   "execution_count": 3,
   "metadata": {},
   "outputs": [],
   "source": [
    "client = msal.ConfidentialClientApplication(\r\n",
    "    client_id,\r\n",
    "    client_credential=client_credential,\r\n",
    "    authority=authority,\r\n",
    ")"
   ]
  },
  {
   "cell_type": "code",
   "execution_count": 4,
   "metadata": {},
   "outputs": [],
   "source": [
    "response = client.acquire_token_for_client(['results.read.all'])"
   ]
  },
  {
   "cell_type": "markdown",
   "metadata": {},
   "source": []
  },
  {
   "cell_type": "code",
   "execution_count": 5,
   "metadata": {},
   "outputs": [
    {
     "data": {
      "text/plain": "{'error': 'unsupported_grant_type',\n 'error_description': 'AADB2C90086: The supplied grant_type [client_credentials] is not supported.\\r\\nCorrelation ID: d16247da-04f1-436f-9b7e-f31d5f2fe788\\r\\nTimestamp: 2021-02-02 15:29:03Z\\r\\n'}"
     },
     "execution_count": 5,
     "metadata": {},
     "output_type": "execute_result"
    }
   ],
   "source": [
    "response"
   ]
  },
  {
   "cell_type": "code",
   "execution_count": 6,
   "metadata": {},
   "outputs": [],
   "source": [
    "# Fresh start: use a token we pulled ourselves\r\n",
    "import getpass\r\n",
    "id_token = getpass.getpass('ID Token: ')"
   ]
  },
  {
   "cell_type": "code",
   "execution_count": 7,
   "metadata": {},
   "outputs": [],
   "source": [
    "token = id_token.strip('\"')\r\n",
    "if token.startswith('Bearer '):\r\n",
    "    token = token[7:]"
   ]
  },
  {
   "cell_type": "code",
   "execution_count": 8,
   "metadata": {},
   "outputs": [
    {
     "data": {
      "text/plain": "'2.0.1'"
     },
     "execution_count": 8,
     "metadata": {},
     "output_type": "execute_result"
    }
   ],
   "source": [
    "jwt.__version__"
   ]
  },
  {
   "cell_type": "code",
   "execution_count": 9,
   "metadata": {},
   "outputs": [],
   "source": [
    "header = jwt.get_unverified_header(token)"
   ]
  },
  {
   "cell_type": "code",
   "execution_count": 10,
   "metadata": {},
   "outputs": [
    {
     "data": {
      "text/plain": "{'typ': 'JWT',\n 'alg': 'RS256',\n 'kid': 'X5eXk4xyojNFum1kl2Ytv8dlNP4-c57dO6QGTVBwaNk'}"
     },
     "execution_count": 10,
     "metadata": {},
     "output_type": "execute_result"
    }
   ],
   "source": [
    "header"
   ]
  },
  {
   "cell_type": "code",
   "execution_count": 11,
   "metadata": {},
   "outputs": [],
   "source": [
    "import urllib.request\r\n",
    "contents = urllib.request.urlopen(f'{authority}/discovery/keys').read()"
   ]
  },
  {
   "cell_type": "code",
   "execution_count": 12,
   "metadata": {},
   "outputs": [
    {
     "data": {
      "text/plain": "{'keys': [{'kid': 'X5eXk4xyojNFum1kl2Ytv8dlNP4-c57dO6QGTVBwaNk',\n   'nbf': 1493763266,\n   'use': 'sig',\n   'kty': 'RSA',\n   'e': 'AQAB',\n   'n': 'tVKUtcx_n9rt5afY_2WFNvU6PlFMggCatsZ3l4RjKxH0jgdLq6CScb0P3ZGXYbPzXvmmLiWZizpb-h0qup5jznOvOr-Dhw9908584BSgC83YacjWNqEK3urxhyE2jWjwRm2N95WGgb5mzE5XmZIvkvyXnn7X8dvgFPF5QwIngGsDG8LyHuJWlaDhr_EPLMW4wHvH0zZCuRMARIJmmqiMy3VD4ftq4nS5s8vJL0pVSrkuNojtokp84AtkADCDU_BUhrc2sIgfnvZ03koCQRoZmWiHu86SuJZYkDFstVTVSR0hiXudFlfQ2rOhPlpObmku68lXw-7V-P7jwrQRFfQVXw'}]}"
     },
     "execution_count": 12,
     "metadata": {},
     "output_type": "execute_result"
    }
   ],
   "source": [
    "import json\r\n",
    "disc_keys = json.loads(contents.decode())\r\n",
    "disc_keys"
   ]
  },
  {
   "cell_type": "code",
   "execution_count": 13,
   "metadata": {},
   "outputs": [
    {
     "data": {
      "text/plain": "{'kid': 'X5eXk4xyojNFum1kl2Ytv8dlNP4-c57dO6QGTVBwaNk',\n 'nbf': 1493763266,\n 'use': 'sig',\n 'kty': 'RSA',\n 'e': 'AQAB',\n 'n': 'tVKUtcx_n9rt5afY_2WFNvU6PlFMggCatsZ3l4RjKxH0jgdLq6CScb0P3ZGXYbPzXvmmLiWZizpb-h0qup5jznOvOr-Dhw9908584BSgC83YacjWNqEK3urxhyE2jWjwRm2N95WGgb5mzE5XmZIvkvyXnn7X8dvgFPF5QwIngGsDG8LyHuJWlaDhr_EPLMW4wHvH0zZCuRMARIJmmqiMy3VD4ftq4nS5s8vJL0pVSrkuNojtokp84AtkADCDU_BUhrc2sIgfnvZ03koCQRoZmWiHu86SuJZYkDFstVTVSR0hiXudFlfQ2rOhPlpObmku68lXw-7V-P7jwrQRFfQVXw'}"
     },
     "execution_count": 13,
     "metadata": {},
     "output_type": "execute_result"
    }
   ],
   "source": [
    "jwk = [key for key in disc_keys['keys'] if key['kid'] == header['kid']].pop()\r\n",
    "jwk"
   ]
  },
  {
   "cell_type": "code",
   "execution_count": 14,
   "metadata": {},
   "outputs": [],
   "source": [
    "import base64\r\n",
    "from cryptography.hazmat.primitives.asymmetric.rsa import RSAPublicNumbers\r\n",
    "from cryptography.hazmat.backends import default_backend\r\n",
    "from cryptography.hazmat.primitives import serialization\r\n",
    "\r\n",
    "\r\n",
    "def ensure_bytes(key):\r\n",
    "    if isinstance(key, str):\r\n",
    "        key = key.encode('utf-8')\r\n",
    "    return key\r\n",
    "\r\n",
    "\r\n",
    "def decode_value(val):\r\n",
    "    decoded = base64.urlsafe_b64decode(ensure_bytes(val) + b'==')\r\n",
    "    return int.from_bytes(decoded, 'big')\r\n",
    "\r\n",
    "\r\n",
    "def rsa_pem_from_jwk(jwk):\r\n",
    "    return RSAPublicNumbers(\r\n",
    "        n=decode_value(jwk['n']),\r\n",
    "        e=decode_value(jwk['e'])\r\n",
    "    ).public_key(default_backend()).public_bytes(\r\n",
    "        encoding=serialization.Encoding.PEM,\r\n",
    "        format=serialization.PublicFormat.SubjectPublicKeyInfo\r\n",
    "    )"
   ]
  },
  {
   "cell_type": "code",
   "execution_count": 15,
   "metadata": {},
   "outputs": [],
   "source": [
    "public_key = rsa_pem_from_jwk(jwk)"
   ]
  },
  {
   "cell_type": "code",
   "execution_count": 16,
   "metadata": {},
   "outputs": [],
   "source": [
    "decoded = jwt.decode(\r\n",
    "    token,\r\n",
    "    public_key,\r\n",
    "    verify=True,\r\n",
    "    algorithms=['RS256'],\r\n",
    "    audience=[client_id],\r\n",
    ")"
   ]
  },
  {
   "cell_type": "code",
   "execution_count": 17,
   "metadata": {},
   "outputs": [
    {
     "data": {
      "text/plain": "{'exp': 1612283158,\n 'nbf': 1612279558,\n 'ver': '1.0',\n 'iss': 'https://clunacy.b2clogin.com/07f0848e-60d0-4c23-8482-cebd7ab04d72/v2.0/',\n 'sub': '96e95f36-5bfd-4f8a-901b-0df83183bd05',\n 'aud': '7a0d396a-c9aa-4a65-8bff-e906fef7b0c7',\n 'nonce': '5982f4b6-70e1-4210-bb6f-ef5b2854b2ea',\n 'iat': 1612279558,\n 'auth_time': 1612279545,\n 'country': 'United States',\n 'given_name': 'Brian',\n 'family_name': 'McClune',\n 'name': 'Brian McClune',\n 'tfp': 'B2C_1_dochuntsignupsignin'}"
     },
     "execution_count": 17,
     "metadata": {},
     "output_type": "execute_result"
    }
   ],
   "source": [
    "decoded"
   ]
  },
  {
   "cell_type": "code",
   "execution_count": null,
   "metadata": {},
   "outputs": [],
   "source": []
  }
 ],
 "metadata": {
  "kernelspec": {
   "display_name": "Python 3.8.5 64-bit ('dochunt': conda)",
   "metadata": {
    "interpreter": {
     "hash": "7f2869c89f1f163542438dfb21b2aa92128e80425d1d97d614b99f18cddc8a61"
    }
   },
   "name": "python3"
  },
  "language_info": {
   "codemirror_mode": {
    "name": "ipython",
    "version": 3
   },
   "file_extension": ".py",
   "mimetype": "text/x-python",
   "name": "python",
   "nbconvert_exporter": "python",
   "pygments_lexer": "ipython3",
   "version": "3.8.5"
  },
  "orig_nbformat": 2
 },
 "nbformat": 4,
 "nbformat_minor": 2
}